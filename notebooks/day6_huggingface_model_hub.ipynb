{
 "cells": [
  {
   "cell_type": "markdown",
   "id": "5f01a587-e71a-4b01-bd96-7a382adf465e",
   "metadata": {
    "tags": []
   },
   "source": [
    "# Examples of Using the Huggingface Model Hub"
   ]
  },
  {
   "cell_type": "markdown",
   "id": "271f4922-98f3-4547-8394-e855ec8cb8bb",
   "metadata": {},
   "source": [
    "### Code Preamble"
   ]
  },
  {
   "cell_type": "code",
   "execution_count": 1,
   "id": "4386cd73-3de0-4389-9709-6fd27d4e9ec9",
   "metadata": {},
   "outputs": [],
   "source": [
    "import numpy as np\n",
    "import pandas as pd\n",
    "import requests\n",
    "\n",
    "from bs4 import *\n",
    "from torch import nn\n"
   ]
  },
  {
   "cell_type": "code",
   "execution_count": 2,
   "id": "a8278ed7-2f35-47f6-b337-9a92b324f7db",
   "metadata": {},
   "outputs": [],
   "source": [
    "def scrape_text(url):\n",
    "    url = url\n",
    "    res = requests.get(url)\n",
    "    html_page = res.text\n",
    "\n",
    "    # Parse the source code using BeautifulSoup\n",
    "    soup = BeautifulSoup(html_page, 'html.parser')\n",
    "\n",
    "    # Extract the plain text content\n",
    "    text = soup.get_text()\n",
    "    return text"
   ]
  },
  {
   "cell_type": "markdown",
   "id": "25acd15d-0ef3-4d80-862f-2140582aad85",
   "metadata": {},
   "source": [
    "## Huggingface "
   ]
  },
  {
   "cell_type": "markdown",
   "id": "e5f14941-7b79-42dc-a0ab-21b077b95b11",
   "metadata": {},
   "source": [
    "### The Huggingface Hub"
   ]
  },
  {
   "cell_type": "markdown",
   "id": "45598585-f996-490f-92b8-1851ff04d9a9",
   "metadata": {},
   "source": [
    "- Like Github, but for LLMs and other large neural nets\n",
    "- Models, datasets, apps\n",
    "- Take a look: [https://huggingface.co/](https://huggingface.co/)"
   ]
  },
  {
   "cell_type": "markdown",
   "id": "b6b875f5-b95f-4a7f-a096-bcea5d8d2903",
   "metadata": {},
   "source": [
    "## Fine-Tuned Classifiers: Toxicity Detection with Pre-Trained RoBERTa"
   ]
  },
  {
   "cell_type": "markdown",
   "id": "e806fc3e-1754-4ae2-9c6d-ceea2571f702",
   "metadata": {},
   "source": [
    "- You've trained your own toxicity classifier\n",
    "- Next we'll use a classifier that was trained by someone else, **finetuning** an LLM\n",
    "    - Take a look: [toxicity classifier](https://huggingface.co/s-nlp/roberta_toxicity_classifier) by [S-NLP](https://huggingface.co/s-nlp)"
   ]
  },
  {
   "cell_type": "code",
   "execution_count": 3,
   "id": "b1ac311c-1c46-4fe3-884f-ac714b463268",
   "metadata": {},
   "outputs": [],
   "source": [
    "from transformers import RobertaTokenizer, RobertaForSequenceClassification"
   ]
  },
  {
   "cell_type": "code",
   "execution_count": 5,
   "id": "04d45f6d-cafb-426a-877d-a8e9f6d6107c",
   "metadata": {},
   "outputs": [
    {
     "name": "stderr",
     "output_type": "stream",
     "text": [
      "'(ReadTimeoutError(\"HTTPSConnectionPool(host='huggingface.co', port=443): Read timed out. (read timeout=10)\"), '(Request ID: a404ec7e-598d-4bc2-b3a3-5256d77c52c9)')' thrown while requesting HEAD https://huggingface.co/s-nlp/roberta_toxicity_classifier/resolve/main/vocab.json\n",
      "Some weights of the model checkpoint at SkolkovoInstitute/roberta_toxicity_classifier were not used when initializing RobertaForSequenceClassification: ['roberta.pooler.dense.weight', 'roberta.pooler.dense.bias']\n",
      "- This IS expected if you are initializing RobertaForSequenceClassification from the checkpoint of a model trained on another task or with another architecture (e.g. initializing a BertForSequenceClassification model from a BertForPreTraining model).\n",
      "- This IS NOT expected if you are initializing RobertaForSequenceClassification from the checkpoint of a model that you expect to be exactly identical (initializing a BertForSequenceClassification model from a BertForSequenceClassification model).\n"
     ]
    }
   ],
   "source": [
    "# load tokenizer and model weights\n",
    "tokenizer = RobertaTokenizer.from_pretrained('SkolkovoInstitute/roberta_toxicity_classifier')\n",
    "model = RobertaForSequenceClassification.from_pretrained('SkolkovoInstitute/roberta_toxicity_classifier')"
   ]
  },
  {
   "cell_type": "code",
   "execution_count": 4,
   "id": "ebb77a8d-d543-42ea-a0c9-fcc7ba2fa037",
   "metadata": {},
   "outputs": [
    {
     "ename": "NameError",
     "evalue": "name 'tokenizer' is not defined",
     "output_type": "error",
     "traceback": [
      "\u001b[0;31m---------------------------------------------------------------------------\u001b[0m",
      "\u001b[0;31mNameError\u001b[0m                                 Traceback (most recent call last)",
      "Cell \u001b[0;32mIn[4], line 2\u001b[0m\n\u001b[1;32m      1\u001b[0m \u001b[38;5;66;03m# prepare the input\u001b[39;00m\n\u001b[0;32m----> 2\u001b[0m batch \u001b[38;5;241m=\u001b[39m \u001b[43mtokenizer\u001b[49m\u001b[38;5;241m.\u001b[39mencode(\u001b[38;5;124m'\u001b[39m\u001b[38;5;124myou are amazing\u001b[39m\u001b[38;5;124m'\u001b[39m, return_tensors\u001b[38;5;241m=\u001b[39m\u001b[38;5;124m'\u001b[39m\u001b[38;5;124mpt\u001b[39m\u001b[38;5;124m'\u001b[39m)\n\u001b[1;32m      4\u001b[0m \u001b[38;5;66;03m# inference\u001b[39;00m\n\u001b[1;32m      5\u001b[0m model(batch)\n",
      "\u001b[0;31mNameError\u001b[0m: name 'tokenizer' is not defined"
     ]
    }
   ],
   "source": [
    "# prepare the input\n",
    "batch = tokenizer.encode('you are amazing', return_tensors='pt')\n",
    "\n",
    "# inference\n",
    "model(batch)"
   ]
  },
  {
   "cell_type": "markdown",
   "id": "df953bc5-ad4c-4ca5-827a-133e8b7ad6be",
   "metadata": {},
   "source": [
    "### Getting the Predictions Out"
   ]
  },
  {
   "cell_type": "code",
   "execution_count": 6,
   "id": "3f1dfebc-0875-4379-b0c7-925b5619572d",
   "metadata": {},
   "outputs": [
    {
     "data": {
      "text/plain": [
       "tensor([[ 4.6567, -4.9115]], grad_fn=<AddmmBackward0>)"
      ]
     },
     "execution_count": 6,
     "metadata": {},
     "output_type": "execute_result"
    }
   ],
   "source": [
    "model(batch).logits #log-odds"
   ]
  },
  {
   "cell_type": "code",
   "execution_count": 7,
   "id": "d25a83f0-cbea-49b5-8fc6-89957869ed39",
   "metadata": {},
   "outputs": [],
   "source": [
    "def get_label_from_prediction(logits):\n",
    "    probabilities = nn.functional.sigmoid(logits) # Run sigmoid on the logits to turn them to probabilities\n",
    "    non_toxic_prob = probabilities[0][0].detach().numpy() #We get the first probability value\n",
    "    if non_toxic_prob < 0.5: # Check if probability is less than zero\n",
    "        return \"toxic\"\n",
    "    else:\n",
    "        return \"not toxic\"\n"
   ]
  },
  {
   "cell_type": "code",
   "execution_count": 8,
   "id": "c17851b8-9855-42c7-bda9-50763a08d5bc",
   "metadata": {},
   "outputs": [],
   "source": [
    "def txt_to_prediction_to_label(text, model):\n",
    "    batch = tokenizer.encode(text, return_tensors='pt') #Tokenize your input text\n",
    "    prediction = model(batch) #Use model to predict\n",
    "    return get_label_from_prediction(prediction.logits) #Extract label from predictions"
   ]
  },
  {
   "cell_type": "code",
   "execution_count": 9,
   "id": "b620b79d-f504-423d-9c58-10a87832b861",
   "metadata": {},
   "outputs": [
    {
     "data": {
      "text/plain": [
       "'toxic'"
      ]
     },
     "execution_count": 9,
     "metadata": {},
     "output_type": "execute_result"
    }
   ],
   "source": [
    "txt_to_prediction_to_label(\"fuck you you fucking fuck\", model)"
   ]
  },
  {
   "cell_type": "code",
   "execution_count": 10,
   "id": "029351de-b629-4875-9875-ad3346ee414d",
   "metadata": {},
   "outputs": [
    {
     "data": {
      "text/plain": [
       "'toxic'"
      ]
     },
     "execution_count": 10,
     "metadata": {},
     "output_type": "execute_result"
    }
   ],
   "source": [
    "txt_to_prediction_to_label(\"here come the feminazis again\", model)"
   ]
  },
  {
   "cell_type": "code",
   "execution_count": 11,
   "id": "12d41af8-9bbc-45e8-8954-a686c3dbdd00",
   "metadata": {},
   "outputs": [
    {
     "data": {
      "text/plain": [
       "'not toxic'"
      ]
     },
     "execution_count": 11,
     "metadata": {},
     "output_type": "execute_result"
    }
   ],
   "source": [
    "txt_to_prediction_to_label(\"Adolf Hitler was a great guy\", model)"
   ]
  },
  {
   "cell_type": "code",
   "execution_count": 12,
   "id": "ac13a3b1-91c9-4a22-9ac0-227fcfe8d34e",
   "metadata": {},
   "outputs": [
    {
     "data": {
      "text/plain": [
       "'not toxic'"
      ]
     },
     "execution_count": 12,
     "metadata": {},
     "output_type": "execute_result"
    }
   ],
   "source": [
    "txt_to_prediction_to_label(\"We'll take you behind the sauna\", model)"
   ]
  },
  {
   "cell_type": "code",
   "execution_count": 13,
   "id": "1c7095f5-ed2b-45a4-ad02-4e50db0fcbb6",
   "metadata": {},
   "outputs": [
    {
     "data": {
      "text/plain": [
       "'not toxic'"
      ]
     },
     "execution_count": 13,
     "metadata": {},
     "output_type": "execute_result"
    }
   ],
   "source": [
    "txt_to_prediction_to_label(\"Je te deteste\", model)"
   ]
  },
  {
   "cell_type": "code",
   "execution_count": 14,
   "id": "81485505-ba3b-473c-927f-18608d3a49cc",
   "metadata": {},
   "outputs": [
    {
     "data": {
      "text/plain": [
       "'not toxic'"
      ]
     },
     "execution_count": 14,
     "metadata": {},
     "output_type": "execute_result"
    }
   ],
   "source": [
    "txt_to_prediction_to_label(\"Yo te odio\", model)"
   ]
  },
  {
   "cell_type": "code",
   "execution_count": 15,
   "id": "b7b7de63-57f9-4bef-a9bb-4976e588aceb",
   "metadata": {},
   "outputs": [
    {
     "data": {
      "text/plain": [
       "'not toxic'"
      ]
     },
     "execution_count": 15,
     "metadata": {},
     "output_type": "execute_result"
    }
   ],
   "source": [
    "txt_to_prediction_to_label(\"White pride forever\", model)"
   ]
  },
  {
   "cell_type": "code",
   "execution_count": 16,
   "id": "06919129-9b3b-418e-98b1-8954eef28d58",
   "metadata": {},
   "outputs": [
    {
     "data": {
      "text/plain": [
       "'not toxic'"
      ]
     },
     "execution_count": 16,
     "metadata": {},
     "output_type": "execute_result"
    }
   ],
   "source": [
    "txt_to_prediction_to_label(\"1488\", model)"
   ]
  },
  {
   "cell_type": "markdown",
   "id": "c5b574fd-6739-443a-8d71-7cafee85c807",
   "metadata": {},
   "source": [
    "### Looping through predictions"
   ]
  },
  {
   "cell_type": "code",
   "execution_count": 17,
   "id": "07b38fcd-3134-4de8-b64f-ee0e8f504009",
   "metadata": {},
   "outputs": [],
   "source": [
    "from nltk.tokenize import sent_tokenize"
   ]
  },
  {
   "cell_type": "code",
   "execution_count": 18,
   "id": "19322e7a-c040-48cb-a380-2f3d7276bdc0",
   "metadata": {},
   "outputs": [],
   "source": [
    "text_tiqqun = scrape_text('https://theanarchistlibrary.org/library/tiqqun-the-cybernetic-hypothesis.muse')\n",
    "sents_tiqqun = sent_tokenize(text_tiqqun)"
   ]
  },
  {
   "cell_type": "code",
   "execution_count": 19,
   "id": "fe96fc41-76f7-46f7-bf81-c9d4dd7df35d",
   "metadata": {},
   "outputs": [],
   "source": [
    "from tqdm import tqdm"
   ]
  },
  {
   "cell_type": "code",
   "execution_count": 22,
   "id": "d9ee1b69-acb2-4815-b224-733c58a05305",
   "metadata": {},
   "outputs": [
    {
     "name": "stdout",
     "output_type": "stream",
     "text": [
      "CPU times: user 5 µs, sys: 2 µs, total: 7 µs\n",
      "Wall time: 13.6 µs\n"
     ]
    },
    {
     "name": "stderr",
     "output_type": "stream",
     "text": [
      "100%|███████████████████████████████████| 856/856 [04:23<00:00,  3.25it/s]\n"
     ]
    }
   ],
   "source": [
    "%time\n",
    "\n",
    "not_toxic = []\n",
    "toxic = []\n",
    "preds=[]\n",
    "for sent in tqdm(sents_tiqqun):\n",
    "    pred = txt_to_prediction_to_label(sent, model)\n",
    "    preds.append(pred)\n",
    "    if pred == 'toxic':\n",
    "        toxic.append(sent)\n",
    "    else:\n",
    "        not_toxic.append(sent)"
   ]
  },
  {
   "cell_type": "code",
   "execution_count": 23,
   "id": "36c44a58-a9e8-4442-8337-c4aea501543e",
   "metadata": {},
   "outputs": [
    {
     "data": {
      "text/plain": [
       "5"
      ]
     },
     "execution_count": 23,
     "metadata": {},
     "output_type": "execute_result"
    }
   ],
   "source": [
    "len(toxic)"
   ]
  },
  {
   "cell_type": "code",
   "execution_count": 24,
   "id": "eb2774f7-085c-4894-b0d1-64e31ff82728",
   "metadata": {},
   "outputs": [
    {
     "data": {
      "text/plain": [
       "['These are the murderers of Time, the crusaders of Sameness, the lovers of fatality.',\n",
       " 'The capitalist is a conqueror, and the conqueror is a monster, a centaur.',\n",
       " 'And there are some that are just too strong... that threaten to break shit.',\n",
       " 'Firstly: I cum perversely.',\n",
       " 'They must be absorbed, eliminated.']"
      ]
     },
     "execution_count": 24,
     "metadata": {},
     "output_type": "execute_result"
    }
   ],
   "source": [
    "toxic"
   ]
  },
  {
   "cell_type": "code",
   "execution_count": 25,
   "id": "b812ace4-eb20-4e62-8c5d-5ff97c2f1c56",
   "metadata": {},
   "outputs": [],
   "source": [
    "text_anarkata = scrape_text('https://theanarchistlibrary.org/library/anarkata.muse')"
   ]
  },
  {
   "cell_type": "code",
   "execution_count": 26,
   "id": "b6c688d9-7445-4b3b-8686-8179cc426dd4",
   "metadata": {},
   "outputs": [
    {
     "name": "stderr",
     "output_type": "stream",
     "text": [
      "100%|███████████████████████████████████| 442/442 [02:12<00:00,  3.33it/s]\n"
     ]
    }
   ],
   "source": [
    "def loop_for_toxicity(sents):\n",
    "    not_toxic = []\n",
    "    toxic = []\n",
    "    for sent in tqdm(sents):\n",
    "        pred = txt_to_prediction_to_label(sent, model)\n",
    "        preds.append(pred)\n",
    "        if pred == 'toxic':\n",
    "            toxic.append(sent)\n",
    "        else:\n",
    "            not_toxic.append(sent)\n",
    "    return toxic, not_toxic, preds\n",
    "\n",
    "toxic_anarkata, not_toxic_anarkata, preds_anarkata = loop_for_toxicity(sent_tokenize(text_anarkata))"
   ]
  },
  {
   "cell_type": "code",
   "execution_count": 27,
   "id": "f66b5270-a4cd-401a-8ea3-12c9a9b69a57",
   "metadata": {},
   "outputs": [
    {
     "name": "stdout",
     "output_type": "stream",
     "text": [
      "33\n",
      "409\n"
     ]
    }
   ],
   "source": [
    "print(len(toxic_anarkata))\n",
    "print(len(not_toxic_anarkata))"
   ]
  },
  {
   "cell_type": "code",
   "execution_count": 28,
   "id": "b61803c6-5fd7-454d-9591-af51c900100e",
   "metadata": {},
   "outputs": [
    {
     "data": {
      "text/plain": [
       "['Black captives in the gender segregated hold of slave ships foraged queer relationships with one another.',\n",
       " 'Black trans people continued to transgress the colonial gender binaries imposed by white colonizers.',\n",
       " 'This means Black labor in the Third and Fourth Worlds; this means prison labor, domestic labor, sex work, emotional labor, and other forms of Black labor that are elicited largely from femes, prisoners, QTGNC people, and others in the Black community.']"
      ]
     },
     "execution_count": 28,
     "metadata": {},
     "output_type": "execute_result"
    }
   ],
   "source": [
    "toxic_anarkata[:3]"
   ]
  },
  {
   "cell_type": "markdown",
   "id": "9541fc38-b7b7-438d-a68d-64ab30c6ef8d",
   "metadata": {},
   "source": [
    "### Project Idea: Patterns of Toxicity\n",
    "\n",
    "- Demonstrate patterns in what kind of text is deemed toxic and what is not\n",
    "    - For example: LLMs vs Black Radicalism\n",
    "- Produce some data visualizations and showcase examples"
   ]
  },
  {
   "cell_type": "markdown",
   "id": "b5c918fb-050e-4a34-9d7d-d65b8c0f847c",
   "metadata": {},
   "source": [
    "## Open Source Zero-Shot Classification with BART\n",
    "\n",
    "- Sometimes we don't know what classes we want to use\n",
    "- We can entrust the LLM to interpret the classes\n",
    "    - Zero-shot and few-shot "
   ]
  },
  {
   "cell_type": "code",
   "execution_count": 20,
   "id": "10a6f590-7f33-4a96-b257-9178e3034d0e",
   "metadata": {},
   "outputs": [
    {
     "data": {
      "application/vnd.jupyter.widget-view+json": {
       "model_id": "9a9ac2c042da436f865e50a9d4e54067",
       "version_major": 2,
       "version_minor": 0
      },
      "text/plain": [
       "Downloading (…)okenizer_config.json:   0%|          | 0.00/26.0 [00:00<?, ?B/s]"
      ]
     },
     "metadata": {},
     "output_type": "display_data"
    },
    {
     "data": {
      "application/vnd.jupyter.widget-view+json": {
       "model_id": "84cf074f6e9b44e3960e73b98e3f1cb8",
       "version_major": 2,
       "version_minor": 0
      },
      "text/plain": [
       "Downloading (…)olve/main/vocab.json:   0%|          | 0.00/899k [00:00<?, ?B/s]"
      ]
     },
     "metadata": {},
     "output_type": "display_data"
    },
    {
     "data": {
      "application/vnd.jupyter.widget-view+json": {
       "model_id": "511d37a19a424b77b2fcfec2401d4847",
       "version_major": 2,
       "version_minor": 0
      },
      "text/plain": [
       "Downloading (…)olve/main/merges.txt:   0%|          | 0.00/456k [00:00<?, ?B/s]"
      ]
     },
     "metadata": {},
     "output_type": "display_data"
    },
    {
     "data": {
      "application/vnd.jupyter.widget-view+json": {
       "model_id": "4d9ce5bc666947768b2fd1f5a05276f7",
       "version_major": 2,
       "version_minor": 0
      },
      "text/plain": [
       "Downloading (…)/main/tokenizer.json:   0%|          | 0.00/1.36M [00:00<?, ?B/s]"
      ]
     },
     "metadata": {},
     "output_type": "display_data"
    }
   ],
   "source": [
    "from transformers import pipeline\n",
    "classifier = pipeline(\"zero-shot-classification\",\n",
    "                      model=\"facebook/bart-large-mnli\")\n"
   ]
  },
  {
   "cell_type": "code",
   "execution_count": 21,
   "id": "2aaa3688-e204-421f-967b-84d018d4dd51",
   "metadata": {},
   "outputs": [
    {
     "data": {
      "text/plain": [
       "{'sequence': 'I hate the police',\n",
       " 'labels': ['extremist', 'non-extremist'],\n",
       " 'scores': [0.7224746346473694, 0.2775254249572754]}"
      ]
     },
     "execution_count": 21,
     "metadata": {},
     "output_type": "execute_result"
    }
   ],
   "source": [
    "sequence_to_classify = \"I hate the police\"\n",
    "candidate_labels = ['extremist', 'non-extremist']\n",
    "classifier(sequence_to_classify, candidate_labels)"
   ]
  },
  {
   "cell_type": "code",
   "execution_count": 22,
   "id": "42892f98-6cb8-4e56-85b6-b4617d6471ef",
   "metadata": {},
   "outputs": [
    {
     "data": {
      "text/plain": [
       "{'sequence': 'I love the police',\n",
       " 'labels': ['non-extremist', 'extremist'],\n",
       " 'scores': [0.9450088143348694, 0.054991234093904495]}"
      ]
     },
     "execution_count": 22,
     "metadata": {},
     "output_type": "execute_result"
    }
   ],
   "source": [
    "sequence_to_classify = \"I love the police\"\n",
    "candidate_labels = ['extremist', 'non-extremist']\n",
    "classifier(sequence_to_classify, candidate_labels)"
   ]
  },
  {
   "cell_type": "code",
   "execution_count": 23,
   "id": "f7d87445-0bce-4012-ac3d-cb3c23b7eb8c",
   "metadata": {},
   "outputs": [
    {
     "data": {
      "text/plain": [
       "{'sequence': 'I hate pizza',\n",
       " 'labels': ['non-extremist', 'extremist'],\n",
       " 'scores': [0.6308594346046448, 0.3691405653953552]}"
      ]
     },
     "execution_count": 23,
     "metadata": {},
     "output_type": "execute_result"
    }
   ],
   "source": [
    "sequence_to_classify = \"I hate pizza\"\n",
    "candidate_labels = ['extremist', 'non-extremist']\n",
    "classifier(sequence_to_classify, candidate_labels)"
   ]
  },
  {
   "cell_type": "code",
   "execution_count": 24,
   "id": "e4d8dac5-eddb-4aa0-b211-196de6d92110",
   "metadata": {},
   "outputs": [
    {
     "data": {
      "text/plain": [
       "{'sequence': 'I hate the police. Just kidding!',\n",
       " 'labels': ['non-extremist', 'extremist'],\n",
       " 'scores': [0.7819611430168152, 0.21803884208202362]}"
      ]
     },
     "execution_count": 24,
     "metadata": {},
     "output_type": "execute_result"
    }
   ],
   "source": [
    "sequence_to_classify = \"I hate the police. Just kidding!\"\n",
    "candidate_labels = ['extremist', 'non-extremist']\n",
    "classifier(sequence_to_classify, candidate_labels)"
   ]
  },
  {
   "cell_type": "markdown",
   "id": "39ca1bf5-8662-4f3a-a396-58ed57e829b8",
   "metadata": {
    "tags": []
   },
   "source": [
    "## Sequence Similarity & Clustering Using Sentence Transformers\n",
    "\n",
    "- Sometimes we want to look at the similarity of entire sequences of text, not just individual words\n",
    "- We can use LLMs to represent short (and sometimes longer) sentences\n",
    "- Let's see how"
   ]
  },
  {
   "cell_type": "code",
   "execution_count": 26,
   "id": "c4f3428b-95c3-47c3-99f7-79e9ab48f233",
   "metadata": {},
   "outputs": [],
   "source": [
    "from sentence_transformers import SentenceTransformer"
   ]
  },
  {
   "cell_type": "code",
   "execution_count": 27,
   "id": "8265ce99-9456-44bc-bf99-b206624439dd",
   "metadata": {},
   "outputs": [
    {
     "data": {
      "application/vnd.jupyter.widget-view+json": {
       "model_id": "c1ed899651cf4cb4b3f1cb032240bd75",
       "version_major": 2,
       "version_minor": 0
      },
      "text/plain": [
       "Downloading (…)e9125/.gitattributes:   0%|          | 0.00/1.18k [00:00<?, ?B/s]"
      ]
     },
     "metadata": {},
     "output_type": "display_data"
    },
    {
     "data": {
      "application/vnd.jupyter.widget-view+json": {
       "model_id": "b307223fdae2418f822a83b8307a652a",
       "version_major": 2,
       "version_minor": 0
      },
      "text/plain": [
       "Downloading (…)_Pooling/config.json:   0%|          | 0.00/190 [00:00<?, ?B/s]"
      ]
     },
     "metadata": {},
     "output_type": "display_data"
    },
    {
     "data": {
      "application/vnd.jupyter.widget-view+json": {
       "model_id": "6ee18290096642439c5847692753ecb8",
       "version_major": 2,
       "version_minor": 0
      },
      "text/plain": [
       "Downloading (…)7e55de9125/README.md:   0%|          | 0.00/10.6k [00:00<?, ?B/s]"
      ]
     },
     "metadata": {},
     "output_type": "display_data"
    },
    {
     "data": {
      "application/vnd.jupyter.widget-view+json": {
       "model_id": "056647ad1d3c4b80967b10c13c418b08",
       "version_major": 2,
       "version_minor": 0
      },
      "text/plain": [
       "Downloading (…)55de9125/config.json:   0%|          | 0.00/612 [00:00<?, ?B/s]"
      ]
     },
     "metadata": {},
     "output_type": "display_data"
    },
    {
     "data": {
      "application/vnd.jupyter.widget-view+json": {
       "model_id": "58f1ba29d59e4f1ca859d24cad5c6e3e",
       "version_major": 2,
       "version_minor": 0
      },
      "text/plain": [
       "Downloading (…)ce_transformers.json:   0%|          | 0.00/116 [00:00<?, ?B/s]"
      ]
     },
     "metadata": {},
     "output_type": "display_data"
    },
    {
     "data": {
      "application/vnd.jupyter.widget-view+json": {
       "model_id": "3da61d607e0f48ebab30223cf255ff46",
       "version_major": 2,
       "version_minor": 0
      },
      "text/plain": [
       "Downloading (…)125/data_config.json:   0%|          | 0.00/39.3k [00:00<?, ?B/s]"
      ]
     },
     "metadata": {},
     "output_type": "display_data"
    },
    {
     "data": {
      "application/vnd.jupyter.widget-view+json": {
       "model_id": "8ece9e132a074974a9e17a2b5187822a",
       "version_major": 2,
       "version_minor": 0
      },
      "text/plain": [
       "Downloading pytorch_model.bin:   0%|          | 0.00/90.9M [00:00<?, ?B/s]"
      ]
     },
     "metadata": {},
     "output_type": "display_data"
    },
    {
     "data": {
      "application/vnd.jupyter.widget-view+json": {
       "model_id": "b74b46a2e150407a9d8a389814e874f8",
       "version_major": 2,
       "version_minor": 0
      },
      "text/plain": [
       "Downloading (…)nce_bert_config.json:   0%|          | 0.00/53.0 [00:00<?, ?B/s]"
      ]
     },
     "metadata": {},
     "output_type": "display_data"
    },
    {
     "data": {
      "application/vnd.jupyter.widget-view+json": {
       "model_id": "65396f8801594d7ba4f7a658992f2691",
       "version_major": 2,
       "version_minor": 0
      },
      "text/plain": [
       "Downloading (…)cial_tokens_map.json:   0%|          | 0.00/112 [00:00<?, ?B/s]"
      ]
     },
     "metadata": {},
     "output_type": "display_data"
    },
    {
     "data": {
      "application/vnd.jupyter.widget-view+json": {
       "model_id": "9325e27821a542b69fd1639ba89eb1c0",
       "version_major": 2,
       "version_minor": 0
      },
      "text/plain": [
       "Downloading (…)e9125/tokenizer.json:   0%|          | 0.00/466k [00:00<?, ?B/s]"
      ]
     },
     "metadata": {},
     "output_type": "display_data"
    },
    {
     "data": {
      "application/vnd.jupyter.widget-view+json": {
       "model_id": "d6ecde99a66c48c18b6c213a886e4e33",
       "version_major": 2,
       "version_minor": 0
      },
      "text/plain": [
       "Downloading (…)okenizer_config.json:   0%|          | 0.00/350 [00:00<?, ?B/s]"
      ]
     },
     "metadata": {},
     "output_type": "display_data"
    },
    {
     "data": {
      "application/vnd.jupyter.widget-view+json": {
       "model_id": "f4c8be14fa404b778408e7cde330d7bf",
       "version_major": 2,
       "version_minor": 0
      },
      "text/plain": [
       "Downloading (…)9125/train_script.py:   0%|          | 0.00/13.2k [00:00<?, ?B/s]"
      ]
     },
     "metadata": {},
     "output_type": "display_data"
    },
    {
     "data": {
      "application/vnd.jupyter.widget-view+json": {
       "model_id": "d43e5a7d0ad146f6aaa71ec0012c0a30",
       "version_major": 2,
       "version_minor": 0
      },
      "text/plain": [
       "Downloading (…)7e55de9125/vocab.txt:   0%|          | 0.00/232k [00:00<?, ?B/s]"
      ]
     },
     "metadata": {},
     "output_type": "display_data"
    },
    {
     "data": {
      "application/vnd.jupyter.widget-view+json": {
       "model_id": "6eb46c8dcbb84088856324c7a3c1f772",
       "version_major": 2,
       "version_minor": 0
      },
      "text/plain": [
       "Downloading (…)5de9125/modules.json:   0%|          | 0.00/349 [00:00<?, ?B/s]"
      ]
     },
     "metadata": {},
     "output_type": "display_data"
    }
   ],
   "source": [
    "sent_model = SentenceTransformer('sentence-transformers/all-MiniLM-L6-v2')"
   ]
  },
  {
   "cell_type": "code",
   "execution_count": 28,
   "id": "16f7993b-7189-4b3f-a1ea-922c2b5c07da",
   "metadata": {},
   "outputs": [],
   "source": [
    "def cosine_similarity(u, v):\n",
    "    dot_prod = np.dot(u, v)\n",
    "    v_norm = np.linalg.norm(u)\n",
    "    u_norm = np.linalg.norm(v)\n",
    "    return dot_prod / (v_norm * u_norm)"
   ]
  },
  {
   "cell_type": "code",
   "execution_count": 30,
   "id": "e8079ef6-0ef6-4b2c-9966-8a0dc4594645",
   "metadata": {},
   "outputs": [],
   "source": [
    "#len(embeddings)"
   ]
  },
  {
   "cell_type": "code",
   "execution_count": 31,
   "id": "0f9672a8-02db-42f1-9e3f-01103066bc06",
   "metadata": {},
   "outputs": [
    {
     "data": {
      "text/plain": [
       "1.0000001"
      ]
     },
     "execution_count": 31,
     "metadata": {},
     "output_type": "execute_result"
    }
   ],
   "source": [
    "sentences = [\"This is an example sentence\", \"This is an example sentence\"]\n",
    "embeddings = sent_model.encode(sentences)\n",
    "cosine_similarity(embeddings[0], embeddings[1])"
   ]
  },
  {
   "cell_type": "code",
   "execution_count": 32,
   "id": "a317985e-86e6-4f62-9bb7-19b62d74f32a",
   "metadata": {},
   "outputs": [],
   "source": [
    "def get_sentence_similarity(sent1, sent2, model):\n",
    "    sentences = [sent1, sent2]\n",
    "    embeddings = model.encode(sentences)\n",
    "    return cosine_similarity(embeddings[0], embeddings[1])"
   ]
  },
  {
   "cell_type": "code",
   "execution_count": 33,
   "id": "04ec1675-b70e-490a-8e94-55697dcaf7f6",
   "metadata": {},
   "outputs": [
    {
     "data": {
      "text/plain": [
       "0.69254106"
      ]
     },
     "execution_count": 33,
     "metadata": {},
     "output_type": "execute_result"
    }
   ],
   "source": [
    "get_sentence_similarity(\"George W. Bush\", \n",
    "                        \"Donald Trump\",\n",
    "                        sent_model)"
   ]
  },
  {
   "cell_type": "code",
   "execution_count": 34,
   "id": "fc48bf97-b15c-4409-b722-0733f4a9628e",
   "metadata": {},
   "outputs": [
    {
     "data": {
      "text/plain": [
       "0.41791004"
      ]
     },
     "execution_count": 34,
     "metadata": {},
     "output_type": "execute_result"
    }
   ],
   "source": [
    "get_sentence_similarity(\"George W. Bush\", \n",
    "                        \"Pablo Picasso\",\n",
    "                        sent_model)"
   ]
  },
  {
   "cell_type": "code",
   "execution_count": 35,
   "id": "5a095e2f-9988-430c-95f5-27e9d0fe6f04",
   "metadata": {},
   "outputs": [
    {
     "data": {
      "text/plain": [
       "0.6518073"
      ]
     },
     "execution_count": 35,
     "metadata": {},
     "output_type": "execute_result"
    }
   ],
   "source": [
    "get_sentence_similarity(\"Salvador Dali\", \n",
    "                        \"Pablo Picasso\",\n",
    "                        sent_model)"
   ]
  },
  {
   "cell_type": "code",
   "execution_count": 36,
   "id": "eda96780-499a-4a41-8999-b8102de4b290",
   "metadata": {},
   "outputs": [
    {
     "data": {
      "text/plain": [
       "0.2974589"
      ]
     },
     "execution_count": 36,
     "metadata": {},
     "output_type": "execute_result"
    }
   ],
   "source": [
    "get_sentence_similarity(\"Felix Guattari\", \n",
    "                        \"Gilles Deleuze\",\n",
    "                        sent_model)"
   ]
  },
  {
   "cell_type": "code",
   "execution_count": 37,
   "id": "da287bcf-f97e-476b-833a-6a2884bd0e05",
   "metadata": {},
   "outputs": [
    {
     "data": {
      "text/plain": [
       "0.31771475"
      ]
     },
     "execution_count": 37,
     "metadata": {},
     "output_type": "execute_result"
    }
   ],
   "source": [
    "get_sentence_similarity(\"Vladimir Lenin\", \n",
    "                        \"Rosa Luxemburg\",\n",
    "                        sent_model)"
   ]
  },
  {
   "cell_type": "markdown",
   "id": "62d9904f-830d-40a9-896a-b638b34d9949",
   "metadata": {},
   "source": [
    "### Finding Clusters of Sentences"
   ]
  },
  {
   "cell_type": "code",
   "execution_count": 38,
   "id": "0a0a4422-f873-4a08-8505-99e296f124de",
   "metadata": {},
   "outputs": [
    {
     "data": {
      "text/plain": [
       "384"
      ]
     },
     "execution_count": 38,
     "metadata": {},
     "output_type": "execute_result"
    }
   ],
   "source": [
    "sents_tiqqun_short = [sent for sent in sents_tiqqun if (len(sent) <150) and (len(sent) > 10)]\n",
    "len(sents_tiqqun_short)"
   ]
  },
  {
   "cell_type": "code",
   "execution_count": 39,
   "id": "e575ee82-ba78-4833-a332-b265d680e61f",
   "metadata": {},
   "outputs": [
    {
     "name": "stderr",
     "output_type": "stream",
     "text": [
      "100%|█████████████████████████████████████████| 384/384 [00:15<00:00, 24.60it/s]\n"
     ]
    }
   ],
   "source": [
    "#tiqqun_embeddings = []\n",
    "def get_all_sent_embeddings(sents, model):\n",
    "    embeddings = []\n",
    "    for sent in tqdm(sents):\n",
    "        embedding = model.encode(sent)\n",
    "        embeddings.append(embedding)\n",
    "    return np.array(embeddings)\n",
    "\n",
    "embeddings_tiqqun = get_all_sent_embeddings(sents_tiqqun_short, sent_model)"
   ]
  },
  {
   "cell_type": "code",
   "execution_count": 40,
   "id": "4b33ec07-6d8f-49db-aa2a-78b21caeb839",
   "metadata": {},
   "outputs": [
    {
     "data": {
      "text/plain": [
       "(384, 384)"
      ]
     },
     "execution_count": 40,
     "metadata": {},
     "output_type": "execute_result"
    }
   ],
   "source": [
    "embeddings_tiqqun.shape"
   ]
  },
  {
   "cell_type": "code",
   "execution_count": 41,
   "id": "011b15b9-3be8-40a2-a0d3-ea0a0f415ead",
   "metadata": {},
   "outputs": [],
   "source": [
    "from sklearn.manifold import TSNE\n",
    "\n",
    "tsne_tiqqun = TSNE(n_components=2, learning_rate='auto', init='pca', perplexity=3).fit_transform(embeddings_tiqqun)"
   ]
  },
  {
   "cell_type": "code",
   "execution_count": 42,
   "id": "9b12496b-1f70-40e2-826a-5b10f54c927b",
   "metadata": {},
   "outputs": [
    {
     "data": {
      "text/plain": [
       "<matplotlib.collections.PathCollection at 0x7f9519a5f3d0>"
      ]
     },
     "execution_count": 42,
     "metadata": {},
     "output_type": "execute_result"
    },
    {
     "data": {
      "image/png": "[encoded data removed]",
      "text/plain": [
       "<Figure size 640x480 with 1 Axes>"
      ]
     },
     "metadata": {},
     "output_type": "display_data"
    }
   ],
   "source": [
    "from matplotlib import pyplot as plt\n",
    "\n",
    "plt.scatter(tsne_tiqqun[:,0], tsne_tiqqun[:,1])"
   ]
  },
  {
   "cell_type": "code",
   "execution_count": 43,
   "id": "a1f00942-1f7b-40b1-9917-b3db9f475346",
   "metadata": {},
   "outputs": [],
   "source": [
    "from sklearn.cluster import KMeans\n",
    "\n",
    "kmeans = KMeans(n_clusters=5, random_state=0, n_init=\"auto\").fit(tsne_tiqqun)"
   ]
  },
  {
   "cell_type": "code",
   "execution_count": 44,
   "id": "7d03625d-4386-4bc9-8b5f-e19701ee99de",
   "metadata": {},
   "outputs": [],
   "source": [
    "sents_indeces = []\n",
    "for idx, sent in enumerate(sents_tiqqun_short):\n",
    "    sents_indeces.append((kmeans.labels_[idx], sent, \n",
    "                          tsne_tiqqun[idx][0],\n",
    "                          tsne_tiqqun[idx][1]))\n",
    "\n",
    "sents_indeces_df = pd.DataFrame(sents_indeces, columns = ['label', 'text', 'embedding_x', 'embedding_y'])"
   ]
  },
  {
   "cell_type": "code",
   "execution_count": 45,
   "id": "c0678570-23d2-4a15-8fbc-4bf9896a29ad",
   "metadata": {},
   "outputs": [],
   "source": [
    "import seaborn as sns"
   ]
  },
  {
   "cell_type": "code",
   "execution_count": 46,
   "id": "f505d6ac-7e81-43a7-8c30-8f0dec937bb4",
   "metadata": {},
   "outputs": [
    {
     "data": {
      "image/png": "[encoded data removed]",
      "text/plain": [
       "<Figure size 640x480 with 1 Axes>"
      ]
     },
     "metadata": {},
     "output_type": "display_data"
    }
   ],
   "source": [
    "sns.scatterplot(x=\"embedding_x\", y=\"embedding_y\", hue=\"label\", \n",
    "                data=sents_indeces_df, palette='Paired', s=20);\n",
    "plt.legend(loc='lower right');"
   ]
  },
  {
   "cell_type": "code",
   "execution_count": 47,
   "id": "bff1608b-7c3e-4668-88ac-8988ba2322b5",
   "metadata": {},
   "outputs": [
    {
     "data": {
      "text/html": [
       "<div>\n",
       "<style scoped>\n",
       "    .dataframe tbody tr th:only-of-type {\n",
       "        vertical-align: middle;\n",
       "    }\n",
       "\n",
       "    .dataframe tbody tr th {\n",
       "        vertical-align: top;\n",
       "    }\n",
       "\n",
       "    .dataframe thead th {\n",
       "        text-align: right;\n",
       "    }\n",
       "</style>\n",
       "<table border=\"1\" class=\"dataframe\">\n",
       "  <thead>\n",
       "    <tr style=\"text-align: right;\">\n",
       "      <th></th>\n",
       "      <th>label</th>\n",
       "      <th>text</th>\n",
       "      <th>embedding_x</th>\n",
       "      <th>embedding_y</th>\n",
       "    </tr>\n",
       "  </thead>\n",
       "  <tbody>\n",
       "    <tr>\n",
       "      <th>258</th>\n",
       "      <td>0</td>\n",
       "      <td>This is the source of all acts of sabotage  Wh...</td>\n",
       "      <td>-45.699249</td>\n",
       "      <td>-41.121487</td>\n",
       "    </tr>\n",
       "    <tr>\n",
       "      <th>284</th>\n",
       "      <td>0</td>\n",
       "      <td>This limping/wobbling indicates a weak-heeled ...</td>\n",
       "      <td>-60.924881</td>\n",
       "      <td>-30.642464</td>\n",
       "    </tr>\n",
       "    <tr>\n",
       "      <th>329</th>\n",
       "      <td>0</td>\n",
       "      <td>The collective conquest of this accurate disso...</td>\n",
       "      <td>-35.524296</td>\n",
       "      <td>-9.543011</td>\n",
       "    </tr>\n",
       "    <tr>\n",
       "      <th>261</th>\n",
       "      <td>0</td>\n",
       "      <td>I wield my passivity as a force against the de...</td>\n",
       "      <td>-45.042969</td>\n",
       "      <td>-39.923275</td>\n",
       "    </tr>\n",
       "    <tr>\n",
       "      <th>363</th>\n",
       "      <td>0</td>\n",
       "      <td>But this would be impossible if minorities got...</td>\n",
       "      <td>-26.318249</td>\n",
       "      <td>1.862567</td>\n",
       "    </tr>\n",
       "    <tr>\n",
       "      <th>383</th>\n",
       "      <td>1</td>\n",
       "      <td>That experimentation will become the “fecund c...</td>\n",
       "      <td>25.982174</td>\n",
       "      <td>29.382570</td>\n",
       "    </tr>\n",
       "    <tr>\n",
       "      <th>369</th>\n",
       "      <td>1</td>\n",
       "      <td>If the question of the base is central to all ...</td>\n",
       "      <td>40.006668</td>\n",
       "      <td>30.706495</td>\n",
       "    </tr>\n",
       "    <tr>\n",
       "      <th>327</th>\n",
       "      <td>1</td>\n",
       "      <td>Because there are indeed two possible regimes ...</td>\n",
       "      <td>24.173405</td>\n",
       "      <td>20.733675</td>\n",
       "    </tr>\n",
       "    <tr>\n",
       "      <th>130</th>\n",
       "      <td>1</td>\n",
       "      <td>Perfecting the circulation of information will...</td>\n",
       "      <td>29.312096</td>\n",
       "      <td>9.113453</td>\n",
       "    </tr>\n",
       "    <tr>\n",
       "      <th>144</th>\n",
       "      <td>1</td>\n",
       "      <td>The imperative of commodity circulation upon w...</td>\n",
       "      <td>38.112606</td>\n",
       "      <td>21.766560</td>\n",
       "    </tr>\n",
       "  </tbody>\n",
       "</table>\n",
       "</div>"
      ],
      "text/plain": [
       "     label                                               text  embedding_x  \\\n",
       "258      0  This is the source of all acts of sabotage  Wh...   -45.699249   \n",
       "284      0  This limping/wobbling indicates a weak-heeled ...   -60.924881   \n",
       "329      0  The collective conquest of this accurate disso...   -35.524296   \n",
       "261      0  I wield my passivity as a force against the de...   -45.042969   \n",
       "363      0  But this would be impossible if minorities got...   -26.318249   \n",
       "383      1  That experimentation will become the “fecund c...    25.982174   \n",
       "369      1  If the question of the base is central to all ...    40.006668   \n",
       "327      1  Because there are indeed two possible regimes ...    24.173405   \n",
       "130      1  Perfecting the circulation of information will...    29.312096   \n",
       "144      1  The imperative of commodity circulation upon w...    38.112606   \n",
       "\n",
       "     embedding_y  \n",
       "258   -41.121487  \n",
       "284   -30.642464  \n",
       "329    -9.543011  \n",
       "261   -39.923275  \n",
       "363     1.862567  \n",
       "383    29.382570  \n",
       "369    30.706495  \n",
       "327    20.733675  \n",
       "130     9.113453  \n",
       "144    21.766560  "
      ]
     },
     "execution_count": 47,
     "metadata": {},
     "output_type": "execute_result"
    }
   ],
   "source": [
    "representative_samples = sents_indeces_df.groupby(\"label\").sample(n=5, random_state=1)\n",
    "representative_samples.head(10)"
   ]
  },
  {
   "cell_type": "code",
   "execution_count": 48,
   "id": "fe61006d-f1ee-41e0-bdd4-a13df71ba8cf",
   "metadata": {},
   "outputs": [
    {
     "name": "stdout",
     "output_type": "stream",
     "text": [
      "In other words, as it were, mastery of a uncertainty would arise from the proper representation and memorization of the past.\n",
      "\n",
      "\n",
      "Classical politics resolved this problem with mobilization.\n",
      "\n",
      "\n",
      "It analyzed the world as an open system for the transformation and circulation of energy flows and monetary flows.\n",
      "\n",
      "\n",
      "And, following Lukács, I call his “techniques of totalization” the social production of society.\n",
      "\n",
      "\n",
      "How can what capitalism routs, what escapes valorization, become a force and turn against it?\n",
      "\n",
      "\n"
     ]
    }
   ],
   "source": [
    "for text in representative_samples[representative_samples.label == 4].text:\n",
    "    print(text)\n",
    "    print(\"\\n\")"
   ]
  },
  {
   "cell_type": "markdown",
   "id": "65a70d88-446f-416f-8949-fb3ea0a19503",
   "metadata": {},
   "source": [
    "## Your Turn!"
   ]
  },
  {
   "cell_type": "markdown",
   "id": "8e84bd9d-a92d-4d21-a0a7-9411c563d9a1",
   "metadata": {},
   "source": [
    "NEXT: Explore models at https://huggingface.co/models. Try to run one for yourself. We will help write the helper functions :)"
   ]
  },
  {
   "cell_type": "code",
   "execution_count": null,
   "id": "65f0b219-3229-4ef7-89ff-b7bfc1dff72c",
   "metadata": {},
   "outputs": [],
   "source": []
  }
 ],
 "metadata": {
  "kernelspec": {
   "display_name": "Python 3 (ipykernel)",
   "language": "python",
   "name": "python3"
  },
  "language_info": {
   "codemirror_mode": {
    "name": "ipython",
    "version": 3
   },
   "file_extension": ".py",
   "mimetype": "text/x-python",
   "name": "python",
   "nbconvert_exporter": "python",
   "pygments_lexer": "ipython3",
   "version": "3.10.12"
  }
 },
 "nbformat": 4,
 "nbformat_minor": 5
}
