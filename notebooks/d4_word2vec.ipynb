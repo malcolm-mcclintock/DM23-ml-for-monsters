{
 "cells": [
  {
   "cell_type": "code",
   "execution_count": 1,
   "id": "efb661d5-373b-490a-b9c1-d4074576c19f",
   "metadata": {},
   "outputs": [],
   "source": [
    "import numpy as np\n",
    "import re\n",
    "import matplotlib.pyplot as plt\n",
    "%matplotlib inline\n",
    "%config InlineBackend.figure_format = 'svg'"
   ]
  },
  {
   "cell_type": "code",
   "execution_count": 5,
   "id": "4b30d48e-7aca-4145-bbfe-193dd2f25062",
   "metadata": {},
   "outputs": [],
   "source": [
    "text = '''The man who passes the sentence should swing the sword.'''\n",
    "def tokenize(text):\n",
    "    pattern = re.compile(r'[A-Za-z]+[\\w^\\']*|[\\w^\\']*[A-Za-z]+[\\w^\\']*')\n",
    "    return pattern.findall(text.lower())\n",
    "tokens = tokenize(text)\n",
    "\n",
    "def mapping(tokens):\n",
    "    word2idx = {word:i for i,word in enumerate(set(tokens))}\n",
    "    idx2word = {i:word for i,word in enumerate(set(tokens))}\n",
    "    return word2idx, idx2word\n",
    "word2idx, idx2word = mapping(tokens)\n",
    "\n"
   ]
  }
 ],
 "metadata": {
  "kernelspec": {
   "display_name": "Python 3 (ipykernel)",
   "language": "python",
   "name": "python3"
  },
  "language_info": {
   "codemirror_mode": {
    "name": "ipython",
    "version": 3
   },
   "file_extension": ".py",
   "mimetype": "text/x-python",
   "name": "python",
   "nbconvert_exporter": "python",
   "pygments_lexer": "ipython3",
   "version": "3.10.12"
  }
 },
 "nbformat": 4,
 "nbformat_minor": 5
}
